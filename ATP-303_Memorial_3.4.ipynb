{
 "cells": [
  {
   "cell_type": "markdown",
   "id": "f5e4c102",
   "metadata": {},
   "source": [
    "<img src=\"https://pages.cnpem.br/workshopbioimagens/wp-content/uploads/sites/166/2023/06/logo-ilum-2048x382.png\" alt=\"Descrição da imagem\" style=\"width: 1000px; height: auto; \">\n",
    "\n",
    "<div style=\" padding: 10px; font-size: 15px; text-align: center;\">\n",
    "<strong> 🧌 Monstrinho 3.4 🧌 </strong> \n",
    "</div>\n",
    "\n",
    "<div style=\" padding: 10px; font-size: 30px; text-align: center;\">\n",
    "<strong><code><i>__dunder__</i></code> 😑 </strong>\n",
    "</div>\n",
    "    \n",
    "<div class=\"alert alert-warning\">\n",
    "  <div style=\"text-align: center; font-size: 15px\"><b>Objetivo:</b>  Criar uma classe de <i>Python</i> que utilize métodos <i>__dunder__</i> não abordados em aula.</div>\n",
    "</div>\n",
    "\n",
    "<div style=\" padding: 10px; font-size: 15px; text-align: center;\">\n",
    "<strong>Yasmin Barbosa Shimizu</strong> </div>\n",
    "<div style=\" padding: 10px; font-size: 15px; text-align: center;\">\n",
    "Prof. Dr. Daniel R. Cassar </div>"
   ]
  },
  {
   "cell_type": "markdown",
   "id": "976f49e3",
   "metadata": {},
   "source": [
    "## Introdução\n",
    " <div style=\"padding: 10px;text-align: justify\"> Quando tratamos de classes em <i>Python</i>, há alguns métodos \"mágicos\" que geram atalhos para funcionalidades pré-determinadas, como a inicialização da classe, sua representação em <i>string</i>, e operadores matemáticos e comparativos. Tais ferramentas, chamadas coloquialmente de <code>__dunder__</code>, muitas vezes servem como base para determinadas classes, e podem ser definidas de acordo com nosso interesse quando construímos uma classe própria. Nesse contexto, para entender melhor os métodos <code>__dunder__</code>, construímos uma classe simples <code>Sequencia</code>, na qual exploramos métodos comparativos para particionar sequências de acordo com sua posição na lista. Além disso, adicionamos alguns métodos estatísticos tradicionais para lidar com a sequência, e a aplicamos para dois casos: um caso numérico, abordando a clássica sequência de Fibonacci; e um caso literal, abordando superficialmente o estudo de genes em bioinformática.</div>"
   ]
  },
  {
   "cell_type": "markdown",
   "id": "4b9c6d4f",
   "metadata": {},
   "source": [
    "<div style=\"text-align: justify; padding: 10px;\">\n",
    "\n",
    "<h3> Criando a classe <code>Sequencia</code></h3>\n",
    "\n",
    "Para definir a classe sequência, construímos 12 métodos com diferentes funções:\n",
    "\n",
    "* <code>&#95;&#95;init&#95;&#95;</code>: inicializa a classe para tratamento des sequências, criando atributos <code>.seq</code> e <code>.n</code> para salvar a sequência e seu tamanho;\n",
    "\n",
    "* <code>&#95;&#95;repr&#95;&#95;</code>: a representação da classe quando printamos uma instância, informando a sequência e seu tamanho a quem manipular o código;\n",
    "\n",
    "* <code>soma_elementos</code>: somatório de todos os elementos da sequência --- se é uma lista de números, faz a soma matemática; se é uma lista de letras, forma uma \"palavra\" (posiciona todas as letras lado a lado como um único elemento);\n",
    "\n",
    "* <code>media</code>, <code>moda</code>, <code>mediana</code>,  <code>var</code>, e <code>desv_pd</code>: calcula os média, moda, mediana, variância, e desvio padrão da sequência --- para isso, importamos a biblioteca <code>statistics</code> para cálculo destes métodos estatísiticos;\n",
    "\n",
    "* <code>&#95;&#95;lt&#95;&#95;</code>, <code>&#95;&#95;gt&#95;&#95;</code>, <code>&#95;&#95;le&#95;&#95;</code>, <code>&#95;&#95;ge&#95;&#95;</code> : os <i>dunders</i> explorados nesta tarefa --- representam os operadores de comparação <, >, <=, >=, respectivamente ---, que recebem um índice e retornam todos os elementos com posição na sequência seguindo comparativo utilizado.\n",
    "\n",
    "</div>\n",
    "\n"
   ]
  },
  {
   "cell_type": "code",
   "execution_count": 1,
   "id": "625e0f32",
   "metadata": {},
   "outputs": [],
   "source": [
    "import statistics as st"
   ]
  },
  {
   "cell_type": "code",
   "execution_count": 2,
   "id": "21b2e67f",
   "metadata": {},
   "outputs": [],
   "source": [
    "class Sequencia():\n",
    "    def __init__(self, sequencia):\n",
    "        self.seq = sequencia\n",
    "        self.n = len(sequencia)\n",
    "    \n",
    "    def __repr__(self):\n",
    "        return f\"A sequência de entrada {self.seq} tem {self.n} elementos.\"\n",
    "    \n",
    "    def soma_elementos(self):\n",
    "        if isinstance(self.seq[0], str):\n",
    "            separador = \"\"\n",
    "            return separador.join(self.seq)\n",
    "        elif isinstance(self.seq[0], (int, float)):\n",
    "            return sum(self.seq)\n",
    "    \n",
    "    def media(self):\n",
    "        return self.soma_elementos()/self.n\n",
    "    \n",
    "    def moda(self):\n",
    "        return st.mode(self.seq)\n",
    "        \n",
    "    def mediana(self):\n",
    "        return st.median(self.seq)\n",
    "    \n",
    "    def var(self):\n",
    "        somatorio = 0\n",
    "        for e in self.seq:\n",
    "            somatorio+=(e - self.media())**2\n",
    "        var = somatorio/self.n\n",
    "        return var\n",
    "        \n",
    "    def desv_pd(self):\n",
    "        return self.var()**(1/2)\n",
    "        \n",
    "    def __lt__(self, i):\n",
    "        return Sequencia(self.seq[:i-1])\n",
    "    \n",
    "    def __gt__(self, i):\n",
    "        return Sequencia(self.seq[i:])\n",
    "    \n",
    "    def __le__(self, i):\n",
    "        return Sequencia(self.seq[:i])\n",
    "    \n",
    "    def __ge__(self, i):\n",
    "        return Sequencia(self.seq[i-1:])\n",
    "    \n",
    "#     def join(self, separador=''):\n",
    "#         if isinstance(self.seq[0], (int, float)):\n",
    "#             return separador.join(str(i) for i in self.seq)\n",
    "#         elif isinstance(self.seq[0], str):\n",
    "#             return separador.join(self.seq)\n",
    "#         else:\n",
    "#             return f\"A classe dos elementos da sequência é {type(self.seq[0])}.\""
   ]
  },
  {
   "cell_type": "markdown",
   "id": "e6e3ac7f",
   "metadata": {},
   "source": [
    "#### Testando a classe `Sequencia`\n",
    "\n",
    "Tendo construído nossa classe, podemos conferir sua funcionalidade com uma instância simples com valores iguais à sua posição."
   ]
  },
  {
   "cell_type": "code",
   "execution_count": 3,
   "id": "4b024521",
   "metadata": {},
   "outputs": [
    {
     "name": "stdout",
     "output_type": "stream",
     "text": [
      "A sequência de entrada [1, 2] tem 2 elementos.\n",
      "A sequência de entrada [4, 5] tem 2 elementos.\n",
      "A sequência de entrada [1, 2, 3] tem 3 elementos.\n",
      "A sequência de entrada [3, 4, 5] tem 3 elementos.\n",
      "15\n"
     ]
    }
   ],
   "source": [
    "seq = [1,2,3,4,5]\n",
    "seq = Sequencia(seq)\n",
    "\n",
    "print(seq < 3)\n",
    "print(seq >3)\n",
    "print(seq <= 3)\n",
    "print(seq >=3)\n",
    "print(seq.soma_elementos())"
   ]
  },
  {
   "cell_type": "markdown",
   "id": "a0fcd36b",
   "metadata": {},
   "source": [
    "Podemos conferir também se a classe funciona para *strings* (alguns dos métodos válidos para esse tipo), como proposto inicialmente."
   ]
  },
  {
   "cell_type": "code",
   "execution_count": 4,
   "id": "443fe3b2",
   "metadata": {},
   "outputs": [
    {
     "name": "stdout",
     "output_type": "stream",
     "text": [
      "A sequência de entrada ['a', 'b'] tem 2 elementos.\n",
      "A sequência de entrada ['d', 'e'] tem 2 elementos.\n",
      "A sequência de entrada ['a', 'b', 'c'] tem 3 elementos.\n",
      "A sequência de entrada ['c', 'd', 'e'] tem 3 elementos.\n",
      "abcde\n"
     ]
    }
   ],
   "source": [
    "seq_str = [\"a\",\"b\",\"c\",\"d\",\"e\"]\n",
    "seq_str = Sequencia(seq_str)\n",
    "\n",
    "print(seq_str < 3)\n",
    "print(seq_str >3)\n",
    "print(seq_str <= 3)\n",
    "print(seq_str >=3)\n",
    "print(seq_str.soma_elementos())"
   ]
  },
  {
   "cell_type": "markdown",
   "id": "621b4a04",
   "metadata": {},
   "source": [
    "Como em ambos os casos os métodos mais complexos cumpriram a função proposta, podemos aplicar a classe `Sequencia` a outras listas."
   ]
  },
  {
   "cell_type": "markdown",
   "id": "bb3af8d8",
   "metadata": {},
   "source": [
    "### Aplicando a classe à sequência de Fibonacci\n",
    "Primeiramente, aplicamos todos os métodos construídos a uma sequência numérica. Aqui exploramos os 10 primeiros termos sequência de Fibonacci."
   ]
  },
  {
   "cell_type": "code",
   "execution_count": 5,
   "id": "adecf521",
   "metadata": {},
   "outputs": [
    {
     "name": "stdout",
     "output_type": "stream",
     "text": [
      "A sequência de entrada [1, 1, 2, 3, 5, 8, 13, 21, 34, 55] tem 10 elementos.\n"
     ]
    }
   ],
   "source": [
    "phi = [1,1,2,3,5,8,13,21,34,55]\n",
    "\n",
    "phi = Sequencia(phi)\n",
    "print(phi)"
   ]
  },
  {
   "cell_type": "code",
   "execution_count": 6,
   "id": "5af27ae9",
   "metadata": {},
   "outputs": [
    {
     "data": {
      "text/plain": [
       "143"
      ]
     },
     "execution_count": 6,
     "metadata": {},
     "output_type": "execute_result"
    }
   ],
   "source": [
    "phi.soma_elementos()"
   ]
  },
  {
   "cell_type": "code",
   "execution_count": 7,
   "id": "8851099e",
   "metadata": {
    "scrolled": true
   },
   "outputs": [
    {
     "data": {
      "text/plain": [
       "14.3"
      ]
     },
     "execution_count": 7,
     "metadata": {},
     "output_type": "execute_result"
    }
   ],
   "source": [
    "phi.media()"
   ]
  },
  {
   "cell_type": "code",
   "execution_count": 8,
   "id": "bfc590ec",
   "metadata": {
    "scrolled": true
   },
   "outputs": [
    {
     "data": {
      "text/plain": [
       "6.5"
      ]
     },
     "execution_count": 8,
     "metadata": {},
     "output_type": "execute_result"
    }
   ],
   "source": [
    "phi.mediana()"
   ]
  },
  {
   "cell_type": "code",
   "execution_count": 9,
   "id": "de57b138",
   "metadata": {},
   "outputs": [
    {
     "data": {
      "text/plain": [
       "285.01000000000005"
      ]
     },
     "execution_count": 9,
     "metadata": {},
     "output_type": "execute_result"
    }
   ],
   "source": [
    "phi.var()"
   ]
  },
  {
   "cell_type": "code",
   "execution_count": 10,
   "id": "e9a95c0f",
   "metadata": {},
   "outputs": [
    {
     "data": {
      "text/plain": [
       "16.88223918797504"
      ]
     },
     "execution_count": 10,
     "metadata": {},
     "output_type": "execute_result"
    }
   ],
   "source": [
    "phi.desv_pd()"
   ]
  },
  {
   "cell_type": "code",
   "execution_count": 11,
   "id": "c828698a",
   "metadata": {},
   "outputs": [
    {
     "data": {
      "text/plain": [
       "A sequência de entrada [1, 1, 2, 3] tem 4 elementos."
      ]
     },
     "execution_count": 11,
     "metadata": {},
     "output_type": "execute_result"
    }
   ],
   "source": [
    "phi < 5"
   ]
  },
  {
   "cell_type": "code",
   "execution_count": 12,
   "id": "52efd572",
   "metadata": {},
   "outputs": [
    {
     "data": {
      "text/plain": [
       "A sequência de entrada [8, 13, 21, 34, 55] tem 5 elementos."
      ]
     },
     "execution_count": 12,
     "metadata": {},
     "output_type": "execute_result"
    }
   ],
   "source": [
    "phi > 5"
   ]
  },
  {
   "cell_type": "code",
   "execution_count": 13,
   "id": "b6b30ae1",
   "metadata": {},
   "outputs": [
    {
     "name": "stdout",
     "output_type": "stream",
     "text": [
      "A sequência de entrada [1, 1, 2, 3, 5] tem 5 elementos.\n"
     ]
    }
   ],
   "source": [
    "phi5 = phi <= 5\n",
    "print(phi5)"
   ]
  },
  {
   "cell_type": "code",
   "execution_count": 14,
   "id": "e2c59cce",
   "metadata": {},
   "outputs": [
    {
     "data": {
      "text/plain": [
       "A sequência de entrada [5, 8, 13, 21, 34, 55] tem 6 elementos."
      ]
     },
     "execution_count": 14,
     "metadata": {},
     "output_type": "execute_result"
    }
   ],
   "source": [
    "phi >= 5"
   ]
  },
  {
   "cell_type": "code",
   "execution_count": 15,
   "id": "9b25cb17",
   "metadata": {},
   "outputs": [
    {
     "data": {
      "text/plain": [
       "2.4"
      ]
     },
     "execution_count": 15,
     "metadata": {},
     "output_type": "execute_result"
    }
   ],
   "source": [
    "phi5.media()"
   ]
  },
  {
   "cell_type": "code",
   "execution_count": 16,
   "id": "18d0d942",
   "metadata": {},
   "outputs": [
    {
     "data": {
      "text/plain": [
       "1"
      ]
     },
     "execution_count": 16,
     "metadata": {},
     "output_type": "execute_result"
    }
   ],
   "source": [
    "phi5.moda()"
   ]
  },
  {
   "cell_type": "markdown",
   "id": "1619a90e",
   "metadata": {},
   "source": [
    "### Aplicando a classe a uma sequência de DNA\n",
    "<div style=\"padding: 10px;text-align: justify\"> \n",
    "Também aplicamos a classe <code>Sequencia()</code> a uma <i>string</i>, para os métodos possíveis para tal --- métodos numéricos, como média e desvio padrão, não são aplicados aqui, bem como a soma é feita de maneira diferente, formando um único objeto com todas as letras da <i>string</i> ou lista de <i>strings</i>. Aqui, utilizamos um trecho do gene COI de bacalhau. A classe pode ser interessante ao tratar de problemas de bioinformática para analisar trechos específicos do gene de interesse.\n",
    " </div>"
   ]
  },
  {
   "cell_type": "code",
   "execution_count": 17,
   "id": "dad2b52d",
   "metadata": {},
   "outputs": [],
   "source": [
    "coi_str =  \"CCTTTATCTCGTATTTGGTGCCTGAGCCGGCATAGTCGGAACAGCCCTAAGCCTGCTCATTCGAGCAGAGCTAAGTCAACCTGGTGCACTTCTTGGTGATGATCAAATTTATAATGTGATCGTTACAGCGCACGCTTTCGTAATAATTTTCTTTATAGTAATACCACTAATAATTGGAGGCTTTGGGAACTGACTCATTCCTCTAATGATCGGTGCACCAGATATAGCTTTCCCTCGAATAAATAACATAAGCTTCTGACTTCTTCCTCCATCTTTCCTGCTCCTTTTAGCATCCTCTGGTGTAGAAGCTGGGGCTGGAACAGGCTGAACTGTCTATCCACCTTTAGCCGGAAACCTCGCTCATGCTGGGGCATCTGTTGATCTCACTATTTTTTCTCTTCATCTAGCAGGGATTTCATCAATTCTTGGGGCAATTAATTTTATTACCACAATTATTAATATGAAACCTCCGGCAATTTCACAGTACCAAACACCCCTATTTGTTTGAGCAGTACTAATTACAGCTGTGCTTCTACTATTATCTCTCCCCGTCTTAGCAGTGGTATCACAATACTTCTAACTGACCGTAATCTTAATACTTCTTTCTTTGACCCTGCTGGAGGAGGTGATCCCATATTATACCAACACTTATTC\"\n"
   ]
  },
  {
   "cell_type": "code",
   "execution_count": 18,
   "id": "a3b46666",
   "metadata": {},
   "outputs": [],
   "source": [
    "# coi = []\n",
    "# for n in coi_str:\n",
    "#     coi.append(n)\n",
    "    \n",
    "# print(type(coi))\n",
    "# print(coi)"
   ]
  },
  {
   "cell_type": "code",
   "execution_count": 19,
   "id": "33138cad",
   "metadata": {
    "scrolled": false
   },
   "outputs": [
    {
     "name": "stdout",
     "output_type": "stream",
     "text": [
      "A sequência de entrada CCTTTATCTCGTATTTGGTGCCTGAGCCGGCATAGTCGGAACAGCCCTAAGCCTGCTCATTCGAGCAGAGCTAAGTCAACCTGGTGCACTTCTTGGTGATGATCAAATTTATAATGTGATCGTTACAGCGCACGCTTTCGTAATAATTTTCTTTATAGTAATACCACTAATAATTGGAGGCTTTGGGAACTGACTCATTCCTCTAATGATCGGTGCACCAGATATAGCTTTCCCTCGAATAAATAACATAAGCTTCTGACTTCTTCCTCCATCTTTCCTGCTCCTTTTAGCATCCTCTGGTGTAGAAGCTGGGGCTGGAACAGGCTGAACTGTCTATCCACCTTTAGCCGGAAACCTCGCTCATGCTGGGGCATCTGTTGATCTCACTATTTTTTCTCTTCATCTAGCAGGGATTTCATCAATTCTTGGGGCAATTAATTTTATTACCACAATTATTAATATGAAACCTCCGGCAATTTCACAGTACCAAACACCCCTATTTGTTTGAGCAGTACTAATTACAGCTGTGCTTCTACTATTATCTCTCCCCGTCTTAGCAGTGGTATCACAATACTTCTAACTGACCGTAATCTTAATACTTCTTTCTTTGACCCTGCTGGAGGAGGTGATCCCATATTATACCAACACTTATTC tem 654 elementos.\n"
     ]
    }
   ],
   "source": [
    "coi = Sequencia(coi_str)\n",
    "print(coi)"
   ]
  },
  {
   "cell_type": "code",
   "execution_count": 20,
   "id": "519abb22",
   "metadata": {},
   "outputs": [
    {
     "data": {
      "text/plain": [
       "'CCTTTATCTCGTATTTGGTGCCTGAGCCGGCATAGTCGGAACAGCCCTAAGCCTGCTCATTCGAGCAGAGCTAAGTCAACCTGGTGCACTTCTTGGTGATGATCAAATTTATAATGTGATCGTTACAGCGCACGCTTTCGTAATAATTTTCTTTATAGTAATACCACTAATAATTGGAGGCTTTGGGAACTGACTCATTCCTCTAATGATCGGTGCACCAGATATAGCTTTCCCTCGAATAAATAACATAAGCTTCTGACTTCTTCCTCCATCTTTCCTGCTCCTTTTAGCATCCTCTGGTGTAGAAGCTGGGGCTGGAACAGGCTGAACTGTCTATCCACCTTTAGCCGGAAACCTCGCTCATGCTGGGGCATCTGTTGATCTCACTATTTTTTCTCTTCATCTAGCAGGGATTTCATCAATTCTTGGGGCAATTAATTTTATTACCACAATTATTAATATGAAACCTCCGGCAATTTCACAGTACCAAACACCCCTATTTGTTTGAGCAGTACTAATTACAGCTGTGCTTCTACTATTATCTCTCCCCGTCTTAGCAGTGGTATCACAATACTTCTAACTGACCGTAATCTTAATACTTCTTTCTTTGACCCTGCTGGAGGAGGTGATCCCATATTATACCAACACTTATTC'"
      ]
     },
     "execution_count": 20,
     "metadata": {},
     "output_type": "execute_result"
    }
   ],
   "source": [
    "coi.soma_elementos()"
   ]
  },
  {
   "cell_type": "code",
   "execution_count": 21,
   "id": "1d13569d",
   "metadata": {},
   "outputs": [
    {
     "data": {
      "text/plain": [
       "654"
      ]
     },
     "execution_count": 21,
     "metadata": {},
     "output_type": "execute_result"
    }
   ],
   "source": [
    "coi.n"
   ]
  },
  {
   "cell_type": "code",
   "execution_count": 22,
   "id": "54b699b2",
   "metadata": {},
   "outputs": [
    {
     "data": {
      "text/plain": [
       "'T'"
      ]
     },
     "execution_count": 22,
     "metadata": {},
     "output_type": "execute_result"
    }
   ],
   "source": [
    "coi.moda()"
   ]
  },
  {
   "cell_type": "code",
   "execution_count": 23,
   "id": "5e83ba26",
   "metadata": {},
   "outputs": [
    {
     "data": {
      "text/plain": [
       "'CCTTTATCTCGTATTTGGTGCCTGAGCCGGCATAGTCGGAACAGCCCTAAGCCTGCTCATTCGAGCAGAGCTAAGTCAACCTGGTGCACTTCTTGGTGATGATCAAATTTATAATGTGATCGTTACAGCGCACGCTTTCGTAATAATTTTCTTTATAGTAATACCACTAATAATTGGAGGCTTTGGGAACTGACTCATTCCTCTAATGATCGGTGCACCAGATATAGCTTTCCCTCGAATAAATAACATAAGCTTCTGACTTCTTCCTCCATCTTTCCTGCTCCTTTTAGCATCCTCTGGTGTAGAAGCTGGGGCTGGAACAGGCTGAACTGTCTATCCACCTTTAGCCGGAAACCTCGCTCATGCTGGGGCATCTGTTGATCTCACTATTTTTTCTCTTCATCTAGCAGGGATTTCATCAATTCTTGGGGCAATTAATTTTATT'"
      ]
     },
     "execution_count": 23,
     "metadata": {},
     "output_type": "execute_result"
    }
   ],
   "source": [
    "coi_ate_445 = coi < 446\n",
    "coi_ate_445.seq"
   ]
  },
  {
   "cell_type": "code",
   "execution_count": 24,
   "id": "a30f0a6d",
   "metadata": {},
   "outputs": [
    {
     "name": "stdout",
     "output_type": "stream",
     "text": [
      "445\n",
      "T\n"
     ]
    }
   ],
   "source": [
    "print(coi_ate_445.n)\n",
    "print(coi_ate_445.moda())"
   ]
  },
  {
   "cell_type": "code",
   "execution_count": 25,
   "id": "4aa5fc8f",
   "metadata": {
    "scrolled": false
   },
   "outputs": [
    {
     "data": {
      "text/plain": [
       "'ACCACAATTATTAATATGAAACCTCCGGCAATTTCACAGTACCAAACACCCCTATTTGTTTGAGCAGTACTAATTACAGCTGTGCTTCTACTATTATCTCTCCCCGTCTTAGCAGTGGTATCACAATACTTCTAACTGACCGTAATCTTAATACTTCTTTCTTTGACCCTGCTGGAGGAGGTGATCCCATATTATACCAACACTTATTC'"
      ]
     },
     "execution_count": 25,
     "metadata": {},
     "output_type": "execute_result"
    }
   ],
   "source": [
    "coi_alem_445 = coi >= 446\n",
    "coi_alem_445.seq"
   ]
  },
  {
   "cell_type": "code",
   "execution_count": 26,
   "id": "ecbea80a",
   "metadata": {
    "scrolled": true
   },
   "outputs": [
    {
     "name": "stdout",
     "output_type": "stream",
     "text": [
      "209\n",
      "T\n"
     ]
    }
   ],
   "source": [
    "print(coi_alem_445.n)\n",
    "print(coi_alem_445.moda())"
   ]
  },
  {
   "cell_type": "code",
   "execution_count": 27,
   "id": "bba4007e",
   "metadata": {
    "scrolled": true
   },
   "outputs": [
    {
     "data": {
      "text/plain": [
       "'CCTTTATCTCGTATTTGGTGCCTGAGCCGGCATAGTCGGAACAGCCCTAAGCCTGCTCATTCGAGCAGAGCTAAGTCAACCTGGTGCACTTCTTGGTGATGATCAAATTTATAATGTGATCGTTACAGCGCACGCTTTCGTAATAATTTTCTTTATAGTAATACCACTAATAATTGGAGGCTTTGGGAACTGACTCATTCCTCTAATGATCGGTGCACCAGATATAGCTTTCCCTCGAATAAATAACATAAGCTTCTGACTTCTTCCTCCATCTTTCCTGCTCCTTTTAGCATCCTCTGGTGTAGAAGCTGGGGCTGGAACAGGCTGAACTGTCTATCCACCTTTAGCCGGAAACCTCGCTCATGCTGGGGCATCTGTTGATCTCACTATTTTTTCTCTTCATCTAGCAGGGATTTCATCAATTCTTGGGGCAATTAATTTTATT'"
      ]
     },
     "execution_count": 27,
     "metadata": {},
     "output_type": "execute_result"
    }
   ],
   "source": [
    "coi_ate_445.soma_elementos()"
   ]
  },
  {
   "cell_type": "markdown",
   "id": "63425ab2",
   "metadata": {},
   "source": [
    "Para selecionar um trecho no meio da sequência, seria necessário definir tal trecho em duas etapas:"
   ]
  },
  {
   "cell_type": "code",
   "execution_count": 28,
   "id": "973c2140",
   "metadata": {},
   "outputs": [
    {
     "data": {
      "text/plain": [
       "A sequência de entrada TATCTCGTATTTGGTGCCTGAGCCGGCATAGTCGGAACAGCCCTAAGCCTGCTCATTCGAGCAGAGCTAAGTCAACCTGGTGCACTTCTTGGTGATGATCAAATTTATAATGTGATCGTTACAGCGCACGCTTTCGTAATAATTTTCTTTATAGTAATACCACTAATAATTGGAGGCTTTGGGAACTGACTCATTCCTCTAATGATCGGTGCACCAGATATAGCTTTCCCTCGAATAAATAACATAAGCTTCTGACTTCTTCCTCCATCTTTCCTGCTCCTTTTAGCATCCTCTGGTGTAGAAGCTGGGGCTGGAACAGGCTGAACTGTCTATCCACCTTTAGCCGGAAACCTCGCTCATGCTGGGGCATCTGTTGATCTCACTATTTTTTCTCTTCATCTAGCAGGGATTTCATCAATTCTTGGGGCAATTAATTTTATTACCACAATTATTAATATGAAACCTCCGGCAATTTCACAGTACCAAACACCCCTATTTGTTTGAGCAGTACTAATTACA tem 519 elementos."
      ]
     },
     "execution_count": 28,
     "metadata": {},
     "output_type": "execute_result"
    }
   ],
   "source": [
    "#coi_4_523 = 4 < coi <= 523\n",
    "coi_ate_523 = coi <= 523\n",
    "coi_5_523 = coi_ate_523 > 4\n",
    "coi_5_523"
   ]
  },
  {
   "cell_type": "markdown",
   "id": "e21cd249",
   "metadata": {},
   "source": [
    "## Conclusão\n",
    "<div style=\"padding: 10px;text-align: justify\"> \n",
    "Neste trabalho, pudemos explorar alguns métodos <code>&#95;&#95;dunder&#95;&#95;</code>, aplicando-os a uma classe para o tratamento de sequências numéricas e <i>strings</i>. Desse modo, tanto os métodos estatísticos quanto comparativos foram bem definidos, funcionando de acordo com a proposta inicial. Assim, tal classe teria potencial aplicação na análise de dados, como por exemplo, na bioinfomática.\n",
    "</div>"
   ]
  },
  {
   "cell_type": "markdown",
   "id": "ba84f063",
   "metadata": {},
   "source": [
    "### Referências\n",
    "\n",
    "MORSELS, Python. Every dunder method in Python. Python Morsels, 2023. Disponível em: https://www.pythonmorsels.com/every-dunder-method/. Acesso em: 01 abril 2025.\n",
    "\n",
    "GENBANK. Gadus morhua voucher USNM:FISH:447400 cytochrome oxidase subunit 1 (COI) gene, partial cds; mitochondrial. GenBank, 2023. Disponível em: https://www.ncbi.nlm.nih.gov/nuccore/MT456169.1?report=fasta. Acesso em: 27 março 2025."
   ]
  }
 ],
 "metadata": {
  "kernelspec": {
   "display_name": "Python 3 (ipykernel)",
   "language": "python",
   "name": "python3"
  },
  "language_info": {
   "codemirror_mode": {
    "name": "ipython",
    "version": 3
   },
   "file_extension": ".py",
   "mimetype": "text/x-python",
   "name": "python",
   "nbconvert_exporter": "python",
   "pygments_lexer": "ipython3",
   "version": "3.11.5"
  }
 },
 "nbformat": 4,
 "nbformat_minor": 5
}
