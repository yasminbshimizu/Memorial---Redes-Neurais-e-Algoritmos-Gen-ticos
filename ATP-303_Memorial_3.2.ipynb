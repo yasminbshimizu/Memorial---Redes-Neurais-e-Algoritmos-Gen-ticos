{
 "cells": [
  {
   "cell_type": "markdown",
   "id": "23e19b88",
   "metadata": {},
   "source": [
    "#### <center>Monstrinho 3.2\n",
    "## <center> \"Átomos não são bolinhas e ligações não são pauzinhos\" --- Prof. Julio\n",
    "    \n",
    "<div class=\"alert alert-warning\">\n",
    "  <b>Objetivo:</b>  Utilizar classes de <i>Python</i> para modelar elementos químicos e moléculas.\n",
    "</div>\n",
    "    \n",
    "### Introdução\n",
    "Quando lidamos com experimentos químicos, é importante atentar-se às massas molares dos reagente utilizados, visto que uma pequena variação na concetração de determinado composto pode afetar diretamente o produto formado, resultando numa reação não desejada. A massa molar é uma propriedade intrínseca à matéria e pode ser calculada partindo dos pesos atômicos conhecidos e tabulados para cada elemento, somando o peso de cada átomo multiplicado pelo seu coeficiente.\n",
    "    \n",
    "Nesse trabalho, foram construídas duas classes para essa função. A primeira, classe `Elemento`, salva nome, símbolo, número e peso atômico de elementos da tabela periódica; e a segunda, `Molécula`, que recebe um dicionário com instâncias da classe `Elemento`, além de salvar essas informações, apresenta métodos para a construção da fórmula química e cálculo do peso molecular. Por fim, aplicamos essas duas classes à alguns compostos químicos utilizados nas disciplinas experimentais do primeiro ano na Ilum - Práticas Básicas de Laboratório, e Laboratório Avançado I."
   ]
  },
  {
   "cell_type": "markdown",
   "id": "2a675648",
   "metadata": {},
   "source": [
    "### Criando a classe `Elemento`\n",
    "\n",
    "A classe `Elemento`, aqui construída, modela elementos químicos tabulados. Ela recebe nome, símbolo, número e peso atômico do elemento em questão, e salva tais dados como atributos da classe. Desse modo eles podem ser resgatados com um simples \"sobrenome\" do objeto.\n",
    "\n",
    "<div class=\"alert alert-info\">\n",
    "<i>Ex</i>: para resgatar o nome do elemento <b>X</b>, usamos <b>X.nome</b>.\n",
    "</div>"
   ]
  },
  {
   "cell_type": "code",
   "execution_count": 1,
   "id": "b21969df",
   "metadata": {},
   "outputs": [],
   "source": [
    "class Elemento:\n",
    "    \"\"\"Modela elementos da tabela periódica, atribuindo nome, símbolo, número e peso atômico.\"\"\"\n",
    "    def __init__(self, simbolo, num_atom, peso_atom, nome = \"em questão\"):\n",
    "        self.nome = nome\n",
    "        self.simbol = simbolo\n",
    "        self.num = num_atom\n",
    "        self.peso = peso_atom\n",
    "        \n",
    "    def __repr__(self):\n",
    "        return f\"O elemento {self.nome}, representado por {self.simbol}, possui número atômico {self.num} e peso atômico de {self.peso} g/mol.\""
   ]
  },
  {
   "cell_type": "markdown",
   "id": "cf814de1",
   "metadata": {},
   "source": [
    "#### Testando para o oxigênio\n",
    "Podemos verificar a funcionalidade da classe construída modelando, por exemplo, o átomo de oxigênio."
   ]
  },
  {
   "cell_type": "code",
   "execution_count": 2,
   "id": "9879aeb3",
   "metadata": {},
   "outputs": [
    {
     "name": "stdout",
     "output_type": "stream",
     "text": [
      "O elemento oxigênio, representado por O, possui número atômico 8 e peso atômico de 16 g/mol.\n"
     ]
    }
   ],
   "source": [
    "O = Elemento(\"O\", 8, 16, \"oxigênio\")\n",
    "print (O)"
   ]
  },
  {
   "cell_type": "code",
   "execution_count": 3,
   "id": "f4020b62",
   "metadata": {},
   "outputs": [
    {
     "data": {
      "text/plain": [
       "8"
      ]
     },
     "execution_count": 3,
     "metadata": {},
     "output_type": "execute_result"
    }
   ],
   "source": [
    "O.num"
   ]
  },
  {
   "cell_type": "code",
   "execution_count": 4,
   "id": "806f587f",
   "metadata": {},
   "outputs": [
    {
     "data": {
      "text/plain": [
       "16"
      ]
     },
     "execution_count": 4,
     "metadata": {},
     "output_type": "execute_result"
    }
   ],
   "source": [
    "O.peso"
   ]
  },
  {
   "cell_type": "markdown",
   "id": "ec787a36",
   "metadata": {},
   "source": [
    "Assim, podemos perceber que a classe segue o funcionamento proposto."
   ]
  },
  {
   "cell_type": "markdown",
   "id": "4948665f",
   "metadata": {},
   "source": [
    "### Criando a classe `Molecula`\n",
    "Já a classe `Molecula` modela compostos químicos a partir de instâncias da classe `Elemento`. Ela recebe num dicionário com os elementos e seus coeficientes, atribuindo as caracteísticas do elemento, mas também montando a fórmula química e calculando o peso molar."
   ]
  },
  {
   "cell_type": "code",
   "execution_count": 5,
   "id": "e2db7cf5",
   "metadata": {},
   "outputs": [],
   "source": [
    "class Molecula:\n",
    "    \"\"\"Modela moléculas químicas, atribuindo nome, descrição dos elementos da molécula, símbolo dos elementos das moléculas, e os coeficientes de cada molécula. Além disso, apresenta um método que monta sua fórumla química e outro que calcula o peso molar da molécula modelada.\"\"\"\n",
    "    def __init__(self, dict_mol, nome = \"em questão\"):\n",
    "        self.nome_mol= nome\n",
    "        self.descr_elementos = list(dict_mol.keys())\n",
    "        self.elementos = []\n",
    "        for e in self.descr_elementos:\n",
    "            self.elementos.append(e.simbol)\n",
    "        self.coefs = list(dict_mol.values())\n",
    "#         self.mol = []\n",
    "#         for e,i in zip(self.elementos, self.coefs):\n",
    "#             self.mol.append((e,i))\n",
    "    \n",
    "    def formula_quim(self):\n",
    "        form = \"\"\n",
    "        for e,i in zip(self.elementos, self.coefs):\n",
    "            if i == 1:\n",
    "                form += f\"{e}\"\n",
    "            else:\n",
    "                form += f\"{e}\"+f\"{i}\"\n",
    "        return form\n",
    "        \n",
    "    def calcula_peso(self): \n",
    "        peso = 0\n",
    "        for e,i in zip(self.descr_elementos, self.coefs):\n",
    "            peso += e.peso*i\n",
    "        return peso\n",
    "        \n",
    "    def __repr__(self):\n",
    "        return f\"A molecula {self.nome_mol}, representada por {self.formula_quim()}, possui os elementos {self.elementos} e peso atômico de {self.calcula_peso()} g/mol.\""
   ]
  },
  {
   "cell_type": "markdown",
   "id": "819b04cf",
   "metadata": {},
   "source": [
    "#### Testando para a água\n",
    "Aqui, podemos visualizar os atributos e métodos construídos para a classe `Molecula`. Para isso, modelamos, como exemplo, uma molécula de água."
   ]
  },
  {
   "cell_type": "code",
   "execution_count": 6,
   "id": "60b252d3",
   "metadata": {},
   "outputs": [
    {
     "data": {
      "text/plain": [
       "{O elemento hidrogênio, representado por H, possui número atômico 1 e peso atômico de 1 g/mol.: 2,\n",
       " O elemento oxigênio, representado por O, possui número atômico 8 e peso atômico de 16 g/mol.: 1}"
      ]
     },
     "execution_count": 6,
     "metadata": {},
     "output_type": "execute_result"
    }
   ],
   "source": [
    "H = Elemento(\"H\", 1, 1, \"hidrogênio\")\n",
    "O = Elemento(\"O\", 8, 16, \"oxigênio\")\n",
    "\n",
    "agua = {H: 2,\n",
    "       O: 1}\n",
    "agua"
   ]
  },
  {
   "cell_type": "code",
   "execution_count": 7,
   "id": "64cc7eb9",
   "metadata": {},
   "outputs": [
    {
     "name": "stdout",
     "output_type": "stream",
     "text": [
      "A molecula água, representada por H2O, possui os elementos ['H', 'O'] e peso atômico de 18 g/mol.\n"
     ]
    }
   ],
   "source": [
    "h2o = Molecula(agua, \"água\")\n",
    "print(h2o)"
   ]
  },
  {
   "cell_type": "code",
   "execution_count": 8,
   "id": "9220acd4",
   "metadata": {},
   "outputs": [
    {
     "name": "stdout",
     "output_type": "stream",
     "text": [
      "água\n",
      "[O elemento hidrogênio, representado por H, possui número atômico 1 e peso atômico de 1 g/mol., O elemento oxigênio, representado por O, possui número atômico 8 e peso atômico de 16 g/mol.]\n",
      "['H', 'O']\n",
      "[2, 1]\n"
     ]
    }
   ],
   "source": [
    "print(h2o.nome_mol)\n",
    "print(h2o.descr_elementos)\n",
    "print(h2o.elementos)\n",
    "print(h2o.coefs)"
   ]
  },
  {
   "cell_type": "code",
   "execution_count": 9,
   "id": "21b93966",
   "metadata": {},
   "outputs": [
    {
     "data": {
      "text/plain": [
       "'H2O'"
      ]
     },
     "execution_count": 9,
     "metadata": {},
     "output_type": "execute_result"
    }
   ],
   "source": [
    "h2o.formula_quim()"
   ]
  },
  {
   "cell_type": "code",
   "execution_count": 10,
   "id": "1ecb55bb",
   "metadata": {
    "scrolled": true
   },
   "outputs": [
    {
     "data": {
      "text/plain": [
       "18"
      ]
     },
     "execution_count": 10,
     "metadata": {},
     "output_type": "execute_result"
    }
   ],
   "source": [
    "h2o.calcula_peso()"
   ]
  },
  {
   "cell_type": "markdown",
   "id": "33665182",
   "metadata": {},
   "source": [
    "### Aplicando as classes desenvolvidas\n",
    "\n",
    "Tendo construído e aprovado a funcionalidade das classes `Elemento` e `Molecula`, podemos aplicá-las para modelar alguns compostos utilizados nas disciplinas de Práticas Básicas de Laboratório e Laboratório Avançado I na Ilum Escola de Ciência."
   ]
  },
  {
   "cell_type": "markdown",
   "id": "ca1b86fe",
   "metadata": {},
   "source": [
    "#### Gás oxigênio (O2)"
   ]
  },
  {
   "cell_type": "code",
   "execution_count": 11,
   "id": "e7eccabb",
   "metadata": {},
   "outputs": [
    {
     "data": {
      "text/plain": [
       "{O elemento oxigênio, representado por O, possui número atômico 8 e peso atômico de 16 g/mol.: 2}"
      ]
     },
     "execution_count": 11,
     "metadata": {},
     "output_type": "execute_result"
    }
   ],
   "source": [
    "O = Elemento(\"O\", 8, 16, \"oxigênio\")\n",
    "\n",
    "o2 = {O: 2}\n",
    "o2"
   ]
  },
  {
   "cell_type": "code",
   "execution_count": 12,
   "id": "c230290c",
   "metadata": {},
   "outputs": [
    {
     "name": "stdout",
     "output_type": "stream",
     "text": [
      "A molecula gás oxigênio, representada por O2, possui os elementos ['O'] e peso atômico de 32 g/mol.\n"
     ]
    }
   ],
   "source": [
    "gas_o2 = Molecula(o2, \"gás oxigênio\")\n",
    "print(gas_o2)"
   ]
  },
  {
   "cell_type": "code",
   "execution_count": 13,
   "id": "a97dface",
   "metadata": {},
   "outputs": [
    {
     "data": {
      "text/plain": [
       "'O2'"
      ]
     },
     "execution_count": 13,
     "metadata": {},
     "output_type": "execute_result"
    }
   ],
   "source": [
    "gas_o2.formula_quim()"
   ]
  },
  {
   "cell_type": "code",
   "execution_count": 14,
   "id": "b33014d6",
   "metadata": {},
   "outputs": [
    {
     "data": {
      "text/plain": [
       "32"
      ]
     },
     "execution_count": 14,
     "metadata": {},
     "output_type": "execute_result"
    }
   ],
   "source": [
    "gas_o2.calcula_peso()"
   ]
  },
  {
   "cell_type": "markdown",
   "id": "515f2b13",
   "metadata": {},
   "source": [
    "#### Ácido Clorídrico (HCl)"
   ]
  },
  {
   "cell_type": "code",
   "execution_count": 15,
   "id": "3cbfb88b",
   "metadata": {},
   "outputs": [
    {
     "data": {
      "text/plain": [
       "{O elemento hidrogênio, representado por H, possui número atômico 1 e peso atômico de 1 g/mol.: 1,\n",
       " O elemento cloro, representado por Cl, possui número atômico 17 e peso atômico de 35.5 g/mol.: 1}"
      ]
     },
     "execution_count": 15,
     "metadata": {},
     "output_type": "execute_result"
    }
   ],
   "source": [
    "H = Elemento(\"H\", 1, 1, \"hidrogênio\")\n",
    "Cl = Elemento(\"Cl\", 17, 35.5, \"cloro\")\n",
    "\n",
    "hcl = {H: 1,\n",
    "       Cl: 1}\n",
    "hcl"
   ]
  },
  {
   "cell_type": "code",
   "execution_count": 16,
   "id": "da8b8ea8",
   "metadata": {},
   "outputs": [
    {
     "name": "stdout",
     "output_type": "stream",
     "text": [
      "A molecula ácido clorídrico, representada por HCl, possui os elementos ['H', 'Cl'] e peso atômico de 36.5 g/mol.\n"
     ]
    }
   ],
   "source": [
    "ac_clor = Molecula(hcl, \"ácido clorídrico\")\n",
    "print(ac_clor)"
   ]
  },
  {
   "cell_type": "code",
   "execution_count": 17,
   "id": "30d87008",
   "metadata": {
    "scrolled": true
   },
   "outputs": [
    {
     "data": {
      "text/plain": [
       "'HCl'"
      ]
     },
     "execution_count": 17,
     "metadata": {},
     "output_type": "execute_result"
    }
   ],
   "source": [
    "ac_clor.formula_quim()"
   ]
  },
  {
   "cell_type": "code",
   "execution_count": 18,
   "id": "054a0d40",
   "metadata": {},
   "outputs": [
    {
     "data": {
      "text/plain": [
       "36.5"
      ]
     },
     "execution_count": 18,
     "metadata": {},
     "output_type": "execute_result"
    }
   ],
   "source": [
    "ac_clor.calcula_peso()"
   ]
  },
  {
   "cell_type": "markdown",
   "id": "88f5c567",
   "metadata": {},
   "source": [
    "#### Hidróxido de Sódio (NaOH)"
   ]
  },
  {
   "cell_type": "code",
   "execution_count": 19,
   "id": "dd312c09",
   "metadata": {},
   "outputs": [
    {
     "data": {
      "text/plain": [
       "{O elemento sódio, representado por Na, possui número atômico 11 e peso atômico de 23 g/mol.: 1,\n",
       " O elemento oxigênio, representado por O, possui número atômico 8 e peso atômico de 16 g/mol.: 1,\n",
       " O elemento hidrogênio, representado por H, possui número atômico 1 e peso atômico de 1 g/mol.: 1}"
      ]
     },
     "execution_count": 19,
     "metadata": {},
     "output_type": "execute_result"
    }
   ],
   "source": [
    "H = Elemento(\"H\", 1, 1, \"hidrogênio\")\n",
    "O = Elemento(\"O\", 8, 16, \"oxigênio\")\n",
    "Na = Elemento(\"Na\", 11, 23, \"sódio\")\n",
    "\n",
    "naoh = {Na: 1,\n",
    "        O: 1,\n",
    "        H: 1}\n",
    "naoh"
   ]
  },
  {
   "cell_type": "code",
   "execution_count": 20,
   "id": "c73acc90",
   "metadata": {},
   "outputs": [
    {
     "name": "stdout",
     "output_type": "stream",
     "text": [
      "A molecula hiróxido de sódio, representada por NaOH, possui os elementos ['Na', 'O', 'H'] e peso atômico de 40 g/mol.\n"
     ]
    }
   ],
   "source": [
    "hidr_sodio = Molecula(naoh, \"hiróxido de sódio\")\n",
    "print(hidr_sodio)"
   ]
  },
  {
   "cell_type": "code",
   "execution_count": 21,
   "id": "f917c4ac",
   "metadata": {},
   "outputs": [
    {
     "data": {
      "text/plain": [
       "'NaOH'"
      ]
     },
     "execution_count": 21,
     "metadata": {},
     "output_type": "execute_result"
    }
   ],
   "source": [
    "hidr_sodio.formula_quim()"
   ]
  },
  {
   "cell_type": "code",
   "execution_count": 22,
   "id": "38672453",
   "metadata": {},
   "outputs": [
    {
     "data": {
      "text/plain": [
       "40"
      ]
     },
     "execution_count": 22,
     "metadata": {},
     "output_type": "execute_result"
    }
   ],
   "source": [
    "hidr_sodio.calcula_peso()"
   ]
  },
  {
   "cell_type": "markdown",
   "id": "cc4e6455",
   "metadata": {},
   "source": [
    "#### Cloreto de Cobalto (CoCl2)"
   ]
  },
  {
   "cell_type": "code",
   "execution_count": 23,
   "id": "a6f7d9ee",
   "metadata": {},
   "outputs": [
    {
     "data": {
      "text/plain": [
       "{O elemento cobalto, representado por Co, possui número atômico 27 e peso atômico de 59 g/mol.: 1,\n",
       " O elemento cloro, representado por Cl, possui número atômico 17 e peso atômico de 35.5 g/mol.: 2}"
      ]
     },
     "execution_count": 23,
     "metadata": {},
     "output_type": "execute_result"
    }
   ],
   "source": [
    "Co = Elemento(\"Co\", 27, 59, \"cobalto\")\n",
    "Cl = Elemento(\"Cl\", 17, 35.5, \"cloro\")\n",
    "\n",
    "cocl2 = {Co: 1,\n",
    "        Cl: 2}\n",
    "cocl2"
   ]
  },
  {
   "cell_type": "code",
   "execution_count": 24,
   "id": "2b0ffd98",
   "metadata": {},
   "outputs": [
    {
     "name": "stdout",
     "output_type": "stream",
     "text": [
      "A molecula hiróxido de sódio, representada por CoCl2, possui os elementos ['Co', 'Cl'] e peso atômico de 130.0 g/mol.\n"
     ]
    }
   ],
   "source": [
    "clor_cobalt = Molecula(cocl2, \"hiróxido de sódio\")\n",
    "print(clor_cobalt)"
   ]
  },
  {
   "cell_type": "code",
   "execution_count": 25,
   "id": "bdbb32a9",
   "metadata": {},
   "outputs": [
    {
     "data": {
      "text/plain": [
       "'CoCl2'"
      ]
     },
     "execution_count": 25,
     "metadata": {},
     "output_type": "execute_result"
    }
   ],
   "source": [
    "clor_cobalt.formula_quim()"
   ]
  },
  {
   "cell_type": "code",
   "execution_count": 26,
   "id": "597750cf",
   "metadata": {},
   "outputs": [
    {
     "data": {
      "text/plain": [
       "130.0"
      ]
     },
     "execution_count": 26,
     "metadata": {},
     "output_type": "execute_result"
    }
   ],
   "source": [
    "clor_cobalt.calcula_peso()"
   ]
  },
  {
   "cell_type": "markdown",
   "id": "4205c45e",
   "metadata": {},
   "source": [
    "#### Nitrato de Prata (AgNO3)"
   ]
  },
  {
   "cell_type": "code",
   "execution_count": 27,
   "id": "f7962143",
   "metadata": {},
   "outputs": [
    {
     "data": {
      "text/plain": [
       "{O elemento prata, representado por Ag, possui número atômico 47 e peso atômico de 108 g/mol.: 1,\n",
       " O elemento nitrogênio, representado por N, possui número atômico 7 e peso atômico de 14 g/mol.: 1,\n",
       " O elemento oxigênio, representado por O, possui número atômico 8 e peso atômico de 16 g/mol.: 3}"
      ]
     },
     "execution_count": 27,
     "metadata": {},
     "output_type": "execute_result"
    }
   ],
   "source": [
    "Ag = Elemento(\"Ag\", 47, 108, \"prata\")\n",
    "N = Elemento(\"N\", 7, 14, \"nitrogênio\")\n",
    "O = Elemento(\"O\", 8, 16, \"oxigênio\")\n",
    "\n",
    "agno3 = {Ag: 1,\n",
    "        N: 1,\n",
    "        O: 3}\n",
    "agno3"
   ]
  },
  {
   "cell_type": "code",
   "execution_count": 28,
   "id": "5f36c2c5",
   "metadata": {},
   "outputs": [
    {
     "name": "stdout",
     "output_type": "stream",
     "text": [
      "A molecula nitrato de prata, representada por AgNO3, possui os elementos ['Ag', 'N', 'O'] e peso atômico de 170 g/mol.\n"
     ]
    }
   ],
   "source": [
    "nit_prata = Molecula(agno3, \"nitrato de prata\")\n",
    "print(nit_prata)"
   ]
  },
  {
   "cell_type": "code",
   "execution_count": 29,
   "id": "b7d687b2",
   "metadata": {},
   "outputs": [
    {
     "data": {
      "text/plain": [
       "'AgNO3'"
      ]
     },
     "execution_count": 29,
     "metadata": {},
     "output_type": "execute_result"
    }
   ],
   "source": [
    "nit_prata.formula_quim()"
   ]
  },
  {
   "cell_type": "code",
   "execution_count": 30,
   "id": "4bea2f09",
   "metadata": {},
   "outputs": [
    {
     "data": {
      "text/plain": [
       "170"
      ]
     },
     "execution_count": 30,
     "metadata": {},
     "output_type": "execute_result"
    }
   ],
   "source": [
    "nit_prata.calcula_peso()"
   ]
  },
  {
   "cell_type": "markdown",
   "id": "43daa6c2",
   "metadata": {},
   "source": [
    "#### Ácido Sulfúrico (H2SO4)"
   ]
  },
  {
   "cell_type": "code",
   "execution_count": 31,
   "id": "5fa0111a",
   "metadata": {},
   "outputs": [
    {
     "data": {
      "text/plain": [
       "{O elemento hidrogênio, representado por H, possui número atômico 1 e peso atômico de 1 g/mol.: 2,\n",
       " O elemento enxofre, representado por S, possui número atômico 16 e peso atômico de 32 g/mol.: 1,\n",
       " O elemento oxigênio, representado por O, possui número atômico 8 e peso atômico de 16 g/mol.: 4}"
      ]
     },
     "execution_count": 31,
     "metadata": {},
     "output_type": "execute_result"
    }
   ],
   "source": [
    "H = Elemento(\"H\", 1, 1, \"hidrogênio\")\n",
    "S = Elemento(\"S\", 16, 32, \"enxofre\")\n",
    "O = Elemento(\"O\", 8, 16, \"oxigênio\")\n",
    "\n",
    "h2so4 = {H: 2,\n",
    "        S: 1,\n",
    "        O: 4}\n",
    "h2so4"
   ]
  },
  {
   "cell_type": "code",
   "execution_count": 32,
   "id": "e3775bf3",
   "metadata": {},
   "outputs": [
    {
     "name": "stdout",
     "output_type": "stream",
     "text": [
      "A molecula ácido sulfúrico, representada por H2SO4, possui os elementos ['H', 'S', 'O'] e peso atômico de 98 g/mol.\n"
     ]
    }
   ],
   "source": [
    "ac_sulfur = Molecula(h2so4, \"ácido sulfúrico\")\n",
    "print(ac_sulfur)"
   ]
  },
  {
   "cell_type": "code",
   "execution_count": 33,
   "id": "120e5e92",
   "metadata": {},
   "outputs": [
    {
     "data": {
      "text/plain": [
       "'H2SO4'"
      ]
     },
     "execution_count": 33,
     "metadata": {},
     "output_type": "execute_result"
    }
   ],
   "source": [
    "ac_sulfur.formula_quim()"
   ]
  },
  {
   "cell_type": "code",
   "execution_count": 34,
   "id": "4e1dee95",
   "metadata": {},
   "outputs": [
    {
     "data": {
      "text/plain": [
       "98"
      ]
     },
     "execution_count": 34,
     "metadata": {},
     "output_type": "execute_result"
    }
   ],
   "source": [
    "ac_sulfur.calcula_peso()"
   ]
  },
  {
   "cell_type": "markdown",
   "id": "f4b59ccc",
   "metadata": {},
   "source": [
    "#### Um monômero de PLA (C3H4O2)"
   ]
  },
  {
   "cell_type": "code",
   "execution_count": 35,
   "id": "95446878",
   "metadata": {},
   "outputs": [
    {
     "data": {
      "text/plain": [
       "{O elemento carbono, representado por C, possui número atômico 6 e peso atômico de 12 g/mol.: 3,\n",
       " O elemento hidrogênio, representado por H, possui número atômico 1 e peso atômico de 1 g/mol.: 4,\n",
       " O elemento oxigênio, representado por O, possui número atômico 8 e peso atômico de 16 g/mol.: 2}"
      ]
     },
     "execution_count": 35,
     "metadata": {},
     "output_type": "execute_result"
    }
   ],
   "source": [
    "C = Elemento(\"C\", 6, 12, \"carbono\")\n",
    "H = Elemento(\"H\", 1, 1, \"hidrogênio\")\n",
    "O = Elemento(\"O\", 8, 16, \"oxigênio\")\n",
    "\n",
    "c3h4o2 = {C: 3,\n",
    "        H: 4,\n",
    "        O: 2}\n",
    "c3h4o2"
   ]
  },
  {
   "cell_type": "code",
   "execution_count": 36,
   "id": "061d287a",
   "metadata": {},
   "outputs": [
    {
     "name": "stdout",
     "output_type": "stream",
     "text": [
      "A molecula monômero de PLA, representada por C3H4O2, possui os elementos ['C', 'H', 'O'] e peso atômico de 72 g/mol.\n"
     ]
    }
   ],
   "source": [
    "pla = Molecula(c3h4o2, \"monômero de PLA\")\n",
    "print(pla)"
   ]
  },
  {
   "cell_type": "code",
   "execution_count": 37,
   "id": "c61539ec",
   "metadata": {},
   "outputs": [
    {
     "data": {
      "text/plain": [
       "'C3H4O2'"
      ]
     },
     "execution_count": 37,
     "metadata": {},
     "output_type": "execute_result"
    }
   ],
   "source": [
    "pla.formula_quim()"
   ]
  },
  {
   "cell_type": "code",
   "execution_count": 38,
   "id": "0bdc5465",
   "metadata": {},
   "outputs": [
    {
     "data": {
      "text/plain": [
       "72"
      ]
     },
     "execution_count": 38,
     "metadata": {},
     "output_type": "execute_result"
    }
   ],
   "source": [
    "pla.calcula_peso()"
   ]
  },
  {
   "cell_type": "markdown",
   "id": "d95b3288",
   "metadata": {},
   "source": [
    "### Conclusão\n",
    "Com essa tarefa, foi abordada a construção de classes, aplicando-a para contextos cotidianos laboratórios da Ilum. Assim, além de trabalhar um conceito muito relevante em práticas químicas, foi possível entender conceitos básicos para o funcionamento de uma classe, possibilitando a compreensão de tal tipo de objeto para tarefas futuras.\n",
    "\n",
    "#### Referência\n",
    "Aulas das disciplinas experimentais ministradas pela Profª Valéria Spolon Marangoni (Práticas Básicas de Laboratório, e Laboratório Avançado I)."
   ]
  }
 ],
 "metadata": {
  "kernelspec": {
   "display_name": "ilumpy",
   "language": "python",
   "name": "ilumpy"
  },
  "language_info": {
   "codemirror_mode": {
    "name": "ipython",
    "version": 3
   },
   "file_extension": ".py",
   "mimetype": "text/x-python",
   "name": "python",
   "nbconvert_exporter": "python",
   "pygments_lexer": "ipython3",
   "version": "3.11.6"
  }
 },
 "nbformat": 4,
 "nbformat_minor": 5
}
